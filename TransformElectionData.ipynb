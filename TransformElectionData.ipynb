{
 "cells": [
  {
   "cell_type": "code",
   "execution_count": 1,
   "metadata": {
    "collapsed": true
   },
   "outputs": [],
   "source": [
    "import os\n",
    "import pandas as pd\n",
    "import numpy as np"
   ]
  },
  {
   "cell_type": "code",
   "execution_count": 111,
   "metadata": {
    "collapsed": true
   },
   "outputs": [],
   "source": [
    "def percent_by_polling_district(riding, year):\n",
    "    print \"Riding: \" + str(riding) + \", Year: \" + str(year)\n",
    "    fileName = \"pollresults_resultatsbureau\" + str(riding) + \".csv\"\n",
    "    filePath = os.path.join(folderName, fileName)\n",
    "    # Load the data\n",
    "    pollData = pd.read_csv(filePath)\n",
    "    \n",
    "    # Get column names, and remove French portions\n",
    "    colNames = list(pollData.columns.values)\n",
    "    colNames = [x.split('/')[0] for x in colNames]\n",
    "    pollData.columns = colNames\n",
    "    \n",
    "    # Drop unnecessary columns\n",
    "    listColDrop = ['Electoral District Name_English',\n",
    "                   'Electoral District Name_French',\n",
    "                   'Void Poll Indicator',\n",
    "                   'No Poll Held Indicator', \n",
    "                   'Merge With',\n",
    "                   'Rejected Ballots for Polling Station',\n",
    "                   'Political Affiliation Name_French',\n",
    "                   \"Candidate's First Name\",\n",
    "                   \"Candidate's Family Name\",\n",
    "                   \"Candidate's Middle Name\", \n",
    "                   'Incumbent Indicator',\n",
    "                   'Elected Candidate Indicator']\n",
    "    pollData = pollData.drop(listColDrop, axis=1)\n",
    "    \n",
    "    # Strip the polling ID column of whitespace.\n",
    "    polCol = 'Polling Station Number'\n",
    "    s = lambda x: str(x).strip(\" \")\n",
    "    pollData[polCol] = pollData[polCol].map(s)\n",
    "    \n",
    "    # Create a pivot table of the data by polling district/candidate name\n",
    "    pollData = pollData.pivot(\n",
    "        index='Polling Station Number',\n",
    "        columns='Political Affiliation Name_English',\n",
    "        values='Candidate Poll Votes Count')\n",
    "    # Turn the index back into a column\n",
    "    pollData.reset_index(level=0, inplace=True)\n",
    "    \n",
    "    # Strip the letters off polling stations since the geospatial data\n",
    "    #  does not include these letters.\n",
    "    stripCharacters = \"ABCDEFG\"\n",
    "    s = lambda x: str(x).strip(stripCharacters)\n",
    "    statCol = 'Polling Station Number'\n",
    "    pollData[statCol] = pollData[statCol].map(s)\n",
    "    \n",
    "    # Merge polling stations\n",
    "    pollData = pollData.groupby('Polling Station Number').sum()\n",
    "    pollData.reset_index(level=0, inplace=True)\n",
    "    \n",
    "    # Get the vote totals\n",
    "    pollData['Vote Totals'] = pollData.sum(axis=1, numeric_only=True)\n",
    "\n",
    "    # Calculate the percent for each\n",
    "\n",
    "    # Grab the data we want converted to a percent\n",
    "    numColsPollData = len(pollData.columns)\n",
    "    pollDataPercent = pollData.iloc[:, range(1, numColsPollData-1)].copy()\n",
    "\n",
    "    # Divide it by the total votes for each polling district\n",
    "    pollDataPercent = pollDataPercent.div(pollData['Vote Totals'], axis=0)\n",
    "\n",
    "    pollDataPercent = np.round(pollDataPercent*100, decimals=2)\n",
    "\n",
    "    # Rename columns\n",
    "    colNames = list(pollDataPercent.columns.values)\n",
    "    colNames = [x + \" (%)\" for x in colNames]\n",
    "    pollDataPercent.columns = colNames\n",
    "\n",
    "    # Merge it with the original data set\n",
    "    pollData = pd.concat([pollData, pollDataPercent], axis=1)\n",
    "    \n",
    "    # Add back column for electoral district\n",
    "    pollData['District'] = riding\n",
    "    \n",
    "    return pollData"
   ]
  },
  {
   "cell_type": "code",
   "execution_count": 112,
   "metadata": {
    "collapsed": true
   },
   "outputs": [],
   "source": [
    "# Create an array for all the years we're interested in\n",
    "years = [2011]"
   ]
  },
  {
   "cell_type": "code",
   "execution_count": 113,
   "metadata": {
    "collapsed": false
   },
   "outputs": [
    {
     "name": "stdout",
     "output_type": "stream",
     "text": [
      "Riding: 13001, Year: 2011\n",
      "Riding: 13002, Year: 2011\n",
      "Riding: 13003, Year: 2011\n",
      "Riding: 13004, Year: 2011\n",
      "Riding: 13005, Year: 2011\n",
      "Riding: 13006, Year: 2011\n",
      "Riding: 13007, Year: 2011\n",
      "Riding: 13008, Year: 2011\n",
      "Riding: 13009, Year: 2011\n",
      "Riding: 13010, Year: 2011\n"
     ]
    }
   ],
   "source": [
    "for year in years:\n",
    "    # Get list of riding numbers\n",
    "    folderName = \"pollresults_resultatsbureau_canada\" + str(year)\n",
    "    # This file contains the provinces and their electoral districts\n",
    "    ridingFile = os.path.join(folderName, \"RidingListClean.csv\")\n",
    "    ridingList = pd.read_csv(ridingFile)\n",
    "    \n",
    "    # We only need the first three columns\n",
    "    ridingList = ridingList.iloc[:, [0, 2]]\n",
    "    ridingList = ridingList[ridingList[\"Province2\"] == \"New Brunswick\"]\n",
    "    ridings = ridingList.ix[:, 1]\n",
    "    \n",
    "    # Is this the first time looping for this year?\n",
    "    first = True\n",
    "    for riding in ridings:\n",
    "        pollData = percent_by_polling_district(riding, year)\n",
    "        if first == True:\n",
    "            combined = pollData\n",
    "        else:\n",
    "            combined = pd.concat([combined, pollData], axis=0, ignore_index=True)\n",
    "        first = False\n",
    "\n",
    "    # Reorder columns before writing\n",
    "    cols = list(combined)\n",
    "    cols.insert(0, cols.pop(cols.index('Polling Station Number')))\n",
    "    cols.insert(0, cols.pop(cols.index('District')))\n",
    "    combined = combined.ix[:, cols]\n",
    "    \n",
    "    fileName = str(year) + \"Combined.csv\"\n",
    "    filePath = os.path.join(\"Output\", fileName)\n",
    "    combined.to_csv(filePath, index=False, encoding='utf-8')"
   ]
  },
  {
   "cell_type": "code",
   "execution_count": null,
   "metadata": {
    "collapsed": true
   },
   "outputs": [],
   "source": []
  }
 ],
 "metadata": {
  "kernelspec": {
   "display_name": "Python 2",
   "language": "python",
   "name": "python2"
  },
  "language_info": {
   "codemirror_mode": {
    "name": "ipython",
    "version": 2
   },
   "file_extension": ".py",
   "mimetype": "text/x-python",
   "name": "python",
   "nbconvert_exporter": "python",
   "pygments_lexer": "ipython2",
   "version": "2.7.10"
  }
 },
 "nbformat": 4,
 "nbformat_minor": 0
}
